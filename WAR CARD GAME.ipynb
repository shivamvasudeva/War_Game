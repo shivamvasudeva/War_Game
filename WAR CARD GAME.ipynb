{
 "cells": [
  {
   "cell_type": "markdown",
   "id": "a51ba47c",
   "metadata": {},
   "source": [
    "# Card class ( Suit, Rank, Value(Int) )"
   ]
  },
  {
   "cell_type": "code",
   "execution_count": 1,
   "id": "459127d5",
   "metadata": {},
   "outputs": [],
   "source": [
    "import random\n",
    "suits=('Hearts', 'Diamonds', 'Spades', 'Clubs')\n",
    "ranks = ('Two', 'Three', 'Four', 'Five', 'Six', 'Seven', 'Eight', 'Nine', 'Ten', 'Jack', 'Queen', 'King', 'Ace')\n",
    "values = {'Two':2, 'Three':3, 'Four':4, 'Five':5, 'Six':6, 'Seven':7, 'Eight':8, 'Nine':9, 'Ten':10, 'Jack':11,\n",
    "         'Queen':12, 'King':13, 'Ace':14}"
   ]
  },
  {
   "cell_type": "code",
   "execution_count": 2,
   "id": "69e834aa",
   "metadata": {},
   "outputs": [],
   "source": [
    "class Card():\n",
    "    def __init__(self,suit,rank):\n",
    "        self.suit=suit\n",
    "        self.rank=rank\n",
    "        self.value=values[rank]\n",
    "        \n",
    "    def __str__(self):\n",
    "        return self.rank+ \" of \" +self.suit"
   ]
  },
  {
   "cell_type": "markdown",
   "id": "cbb5d98d",
   "metadata": {},
   "source": [
    "----------------------------------------How this Class works---------------------------------------------------"
   ]
  },
  {
   "cell_type": "code",
   "execution_count": 3,
   "id": "81026bb4",
   "metadata": {},
   "outputs": [],
   "source": [
    "clubthree=Card(\"Clubs\",\"Three\")"
   ]
  },
  {
   "cell_type": "code",
   "execution_count": 4,
   "id": "1830c261",
   "metadata": {},
   "outputs": [],
   "source": [
    "hearttwo= Card(\"Clubs\",\"Two\")"
   ]
  },
  {
   "cell_type": "code",
   "execution_count": 5,
   "id": "504ff5b7",
   "metadata": {},
   "outputs": [
    {
     "data": {
      "text/plain": [
       "False"
      ]
     },
     "execution_count": 5,
     "metadata": {},
     "output_type": "execute_result"
    }
   ],
   "source": [
    "hearttwo.value == clubthree.value"
   ]
  },
  {
   "cell_type": "code",
   "execution_count": 6,
   "id": "3d91659b",
   "metadata": {},
   "outputs": [
    {
     "data": {
      "text/plain": [
       "True"
      ]
     },
     "execution_count": 6,
     "metadata": {},
     "output_type": "execute_result"
    }
   ],
   "source": [
    "hearttwo.suit == clubthree.suit"
   ]
  },
  {
   "cell_type": "markdown",
   "id": "50b1d35c",
   "metadata": {},
   "source": [
    "# Deck Class (Create 52 crd objects, Hold list of card objects)"
   ]
  },
  {
   "cell_type": "code",
   "execution_count": 7,
   "id": "09cba66b",
   "metadata": {},
   "outputs": [],
   "source": [
    "class Deck:\n",
    "    def __init__(self):\n",
    "        self.all_cards = []\n",
    "        for suit in suits:\n",
    "            for rank in ranks:\n",
    "                # Create a card Object\n",
    "                created_card= Card(suit,rank)\n",
    "                self.all_cards.append(created_card)\n",
    "                \n",
    "            #Shuffle the deck\n",
    "    def shuffle(self):\n",
    "        random.shuffle(self.all_cards)\n",
    "        \n",
    "        # Grab one card nd pop out of the deck\n",
    "    def deal_one(self):\n",
    "        return self.all_cards.pop()"
   ]
  },
  {
   "cell_type": "markdown",
   "id": "3caaeb25",
   "metadata": {},
   "source": [
    "----------------------------------------How this Class works--------------------------------------------------"
   ]
  },
  {
   "cell_type": "code",
   "execution_count": 8,
   "id": "64961c5f",
   "metadata": {},
   "outputs": [],
   "source": [
    "newdeck = Deck()"
   ]
  },
  {
   "cell_type": "code",
   "execution_count": 9,
   "id": "c7fa4fc7",
   "metadata": {},
   "outputs": [],
   "source": [
    "newdeck.shuffle()"
   ]
  },
  {
   "cell_type": "code",
   "execution_count": 10,
   "id": "953850fd",
   "metadata": {},
   "outputs": [
    {
     "name": "stdout",
     "output_type": "stream",
     "text": [
      "Seven of Clubs\n"
     ]
    }
   ],
   "source": [
    "print(newdeck.all_cards[0])"
   ]
  },
  {
   "cell_type": "code",
   "execution_count": 11,
   "id": "855f4dcd",
   "metadata": {},
   "outputs": [
    {
     "name": "stdout",
     "output_type": "stream",
     "text": [
      "Seven of Clubs\n",
      "Seven of Diamonds\n",
      "Six of Diamonds\n",
      "Ace of Spades\n",
      "Nine of Hearts\n",
      "Ten of Spades\n",
      "Nine of Diamonds\n",
      "Jack of Diamonds\n",
      "Queen of Hearts\n",
      "Three of Clubs\n",
      "Jack of Spades\n",
      "Five of Clubs\n",
      "Six of Hearts\n",
      "Four of Clubs\n",
      "Five of Diamonds\n",
      "Ace of Hearts\n",
      "Ten of Diamonds\n",
      "Three of Spades\n",
      "Queen of Spades\n",
      "Nine of Spades\n",
      "Three of Diamonds\n",
      "Ace of Diamonds\n",
      "Two of Clubs\n",
      "Two of Diamonds\n",
      "Jack of Clubs\n",
      "Three of Hearts\n",
      "King of Clubs\n",
      "Queen of Clubs\n",
      "Six of Clubs\n",
      "Seven of Spades\n",
      "Seven of Hearts\n",
      "Four of Spades\n",
      "Four of Hearts\n",
      "Two of Spades\n",
      "King of Hearts\n",
      "Ten of Hearts\n",
      "Eight of Clubs\n",
      "King of Spades\n",
      "Eight of Hearts\n",
      "Five of Spades\n",
      "Eight of Diamonds\n",
      "Five of Hearts\n",
      "King of Diamonds\n",
      "Jack of Hearts\n",
      "Ace of Clubs\n",
      "Ten of Clubs\n",
      "Two of Hearts\n",
      "Queen of Diamonds\n",
      "Eight of Spades\n",
      "Nine of Clubs\n",
      "Six of Spades\n",
      "Four of Diamonds\n"
     ]
    }
   ],
   "source": [
    "for cardobj in newdeck.all_cards:\n",
    "    print(cardobj)"
   ]
  },
  {
   "cell_type": "code",
   "execution_count": 12,
   "id": "490de1cc",
   "metadata": {},
   "outputs": [],
   "source": [
    "onecard =newdeck.deal_one()"
   ]
  },
  {
   "cell_type": "code",
   "execution_count": 13,
   "id": "6708493d",
   "metadata": {},
   "outputs": [
    {
     "name": "stdout",
     "output_type": "stream",
     "text": [
      "Four of Diamonds\n"
     ]
    }
   ],
   "source": [
    "print(onecard)"
   ]
  },
  {
   "cell_type": "code",
   "execution_count": 14,
   "id": "7d6e1641",
   "metadata": {},
   "outputs": [
    {
     "data": {
      "text/plain": [
       "51"
      ]
     },
     "execution_count": 14,
     "metadata": {},
     "output_type": "execute_result"
    }
   ],
   "source": [
    "len(newdeck.all_cards)"
   ]
  },
  {
   "cell_type": "markdown",
   "id": "809f0e05",
   "metadata": {},
   "source": [
    "# Player Class  (Hold Current playr's List of cards add or remove from list of cards)"
   ]
  },
  {
   "cell_type": "code",
   "execution_count": 15,
   "id": "3b2ac364",
   "metadata": {},
   "outputs": [],
   "source": [
    "class Player:\n",
    "    def __init__(self,name):\n",
    "        self.name=name\n",
    "        self.all_cards=[]\n",
    "        \n",
    "    def remove_one(self):\n",
    "        return self.all_cards.pop(0)\n",
    "    \n",
    "    def add_cards(self,new_cards):\n",
    "        if type(new_cards) == type([]):\n",
    "            self.all_cards.extend(new_cards)\n",
    "        else:\n",
    "            self.all_cards.append(new_cards)\n",
    "    def __str__(self):\n",
    "        return f'Player {self.name} has {len(self.all_cards)} cards.'\n",
    "    \n",
    "    "
   ]
  },
  {
   "cell_type": "markdown",
   "id": "a3a46e8c",
   "metadata": {},
   "source": [
    "----------------------------------------How this Class works--------------------------------------------------"
   ]
  },
  {
   "cell_type": "code",
   "execution_count": 16,
   "id": "6929720b",
   "metadata": {},
   "outputs": [],
   "source": [
    "np = Player('Shivam')"
   ]
  },
  {
   "cell_type": "code",
   "execution_count": 17,
   "id": "2e7a14bc",
   "metadata": {},
   "outputs": [
    {
     "name": "stdout",
     "output_type": "stream",
     "text": [
      "Player Shivam has 0 cards.\n"
     ]
    }
   ],
   "source": [
    "print(np)"
   ]
  },
  {
   "cell_type": "code",
   "execution_count": 18,
   "id": "78352c71",
   "metadata": {},
   "outputs": [],
   "source": [
    "np.add_cards(onecard)"
   ]
  },
  {
   "cell_type": "code",
   "execution_count": 19,
   "id": "b1b46578",
   "metadata": {},
   "outputs": [
    {
     "name": "stdout",
     "output_type": "stream",
     "text": [
      "Player Shivam has 1 cards.\n"
     ]
    }
   ],
   "source": [
    "print(np)"
   ]
  },
  {
   "cell_type": "code",
   "execution_count": 20,
   "id": "a1f15561",
   "metadata": {},
   "outputs": [],
   "source": [
    "np.add_cards([onecard,onecard,onecard])"
   ]
  },
  {
   "cell_type": "code",
   "execution_count": 21,
   "id": "fa81c220",
   "metadata": {},
   "outputs": [
    {
     "name": "stdout",
     "output_type": "stream",
     "text": [
      "Player Shivam has 4 cards.\n"
     ]
    }
   ],
   "source": [
    "print(np)"
   ]
  },
  {
   "cell_type": "code",
   "execution_count": 22,
   "id": "2715013e",
   "metadata": {},
   "outputs": [
    {
     "data": {
      "text/plain": [
       "<__main__.Card at 0x7fdad922f0a0>"
      ]
     },
     "execution_count": 22,
     "metadata": {},
     "output_type": "execute_result"
    }
   ],
   "source": [
    "np.remove_one()"
   ]
  },
  {
   "cell_type": "code",
   "execution_count": 23,
   "id": "eb453357",
   "metadata": {},
   "outputs": [
    {
     "name": "stdout",
     "output_type": "stream",
     "text": [
      "Player Shivam has 3 cards.\n"
     ]
    }
   ],
   "source": [
    "print(np)"
   ]
  },
  {
   "cell_type": "markdown",
   "id": "6dc995e7",
   "metadata": {},
   "source": [
    "# Game Logic:\n",
    "    Player 1\n",
    "    Player 2:\n",
    "        Split method\n",
    "    Check see if someone lost first thing of the code\n",
    "    Check len of list == 0 \n",
    "    While game_on = True:\n",
    "        each player draw card\n",
    "        compare card\n",
    "        winner gets both cards added at bottom\n",
    "    Case of war:\n",
    "        cards equal\n",
    "        while at war loop to deal with multiple ties\n",
    "        draw additional 3 card\n",
    "        tie is ended \n",
    "        winner get the card added to the end of list\n",
    "        Game_on= False \n",
    "        "
   ]
  },
  {
   "cell_type": "code",
   "execution_count": 24,
   "id": "3e1a3add",
   "metadata": {},
   "outputs": [],
   "source": [
    "#Game setup\n",
    "\n",
    "# Add 2 Players\n",
    "player_one = Player(\"One\")\n",
    "player_two = Player(\"Two\")\n",
    "\n",
    "# Create a deck and shuffle the deck\n",
    "new_deck = Deck()\n",
    "new_deck.shuffle()\n",
    "\n",
    "#Splitting the deck btw both players; According to the logic below\n",
    "for x in range (26):\n",
    "    player_one.add_cards(new_deck.deal_one())\n",
    "    player_two.add_cards(new_deck.deal_one())"
   ]
  },
  {
   "cell_type": "code",
   "execution_count": 25,
   "id": "b26f0459",
   "metadata": {},
   "outputs": [],
   "source": [
    "game_on =True"
   ]
  },
  {
   "cell_type": "code",
   "execution_count": 26,
   "id": "43f06ba5",
   "metadata": {
    "scrolled": true
   },
   "outputs": [
    {
     "name": "stdout",
     "output_type": "stream",
     "text": [
      "Round 1\n",
      "Round 2\n",
      "Round 3\n",
      "Round 4\n",
      "Round 5\n",
      "Round 6\n",
      "War Time!!!!!!!!!\n",
      "Round 7\n",
      "Round 8\n",
      "Round 9\n",
      "Round 10\n",
      "Round 11\n",
      "Round 12\n",
      "War Time!!!!!!!!!\n",
      "Round 13\n",
      "Round 14\n",
      "Round 15\n",
      "Round 16\n",
      "Round 17\n",
      "Round 18\n",
      "Round 19\n",
      "Round 20\n",
      "Round 21\n",
      "Round 22\n",
      "Round 23\n",
      "Round 24\n",
      "Round 25\n",
      "Round 26\n",
      "Round 27\n",
      "Round 28\n",
      "Round 29\n",
      "Round 30\n",
      "Round 31\n",
      "Round 32\n",
      "Round 33\n",
      "Round 34\n",
      "Round 35\n",
      "Round 36\n",
      "Round 37\n",
      "Round 38\n",
      "Round 39\n",
      "Round 40\n",
      "Round 41\n",
      "Round 42\n",
      "Round 43\n",
      "Round 44\n",
      "Round 45\n",
      "Round 46\n",
      "Round 47\n",
      "Round 48\n",
      "Round 49\n",
      "Round 50\n",
      "Round 51\n",
      "Round 52\n",
      "Round 53\n",
      "Round 54\n",
      "Round 55\n",
      "Round 56\n",
      "Round 57\n",
      "Round 58\n",
      "Round 59\n",
      "Round 60\n",
      "Round 61\n",
      "Round 62\n",
      "Round 63\n",
      "Round 64\n",
      "Round 65\n",
      "Round 66\n",
      "Round 67\n",
      "Round 68\n",
      "Round 69\n",
      "Round 70\n",
      "Round 71\n",
      "Round 72\n",
      "Round 73\n",
      "Round 74\n",
      "War Time!!!!!!!!!\n",
      "Round 75\n",
      "Round 76\n",
      "Round 77\n",
      "War Time!!!!!!!!!\n",
      "War Time!!!!!!!!!\n",
      "Round 78\n",
      "Round 79\n",
      "Round 80\n",
      "Round 81\n",
      "Round 82\n",
      "Round 83\n",
      "Round 84\n",
      "Round 85\n",
      "Round 86\n",
      "Round 87\n",
      "Round 88\n",
      "Round 89\n",
      "Round 90\n",
      "Round 91\n",
      "Round 92\n",
      "Round 93\n",
      "Round 94\n",
      "Round 95\n",
      "Round 96\n",
      "Round 97\n",
      "Round 98\n",
      "Round 99\n",
      "Round 100\n",
      "Round 101\n",
      "Round 102\n",
      "Round 103\n",
      "Round 104\n",
      "Round 105\n",
      "Round 106\n",
      "Round 107\n",
      "Round 108\n",
      "Round 109\n",
      "Round 110\n",
      "Round 111\n",
      "Round 112\n",
      "Round 113\n",
      "Round 114\n",
      "Round 115\n",
      "Round 116\n",
      "War Time!!!!!!!!!\n",
      "Round 117\n",
      "Round 118\n",
      "Round 119\n",
      "Round 120\n",
      "Round 121\n",
      "Round 122\n",
      "Round 123\n",
      "Round 124\n",
      "War Time!!!!!!!!!\n",
      "Round 125\n",
      "Round 126\n",
      "Round 127\n",
      "Round 128\n",
      "War Time!!!!!!!!!\n",
      "Round 129\n",
      "Round 130\n",
      "Round 131\n",
      "Round 132\n",
      "Round 133\n",
      "Round 134\n",
      "Round 135\n",
      "Round 136\n",
      "Round 137\n",
      "Round 138\n",
      "Round 139\n",
      "Round 140\n",
      "Round 141\n",
      "Round 142\n",
      "Round 143\n",
      "Round 144\n",
      "Round 145\n",
      "Round 146\n",
      "Round 147\n",
      "Round 148\n",
      "Round 149\n",
      "Round 150\n",
      "Round 151\n",
      "Round 152\n",
      "War Time!!!!!!!!!\n",
      "Round 153\n",
      "Round 154\n",
      "Round 155\n",
      "Round 156\n",
      "Round 157\n",
      "Round 158\n",
      "War Time!!!!!!!!!\n",
      "Round 159\n",
      "Round 160\n",
      "Round 161\n",
      "War Time!!!!!!!!!\n",
      "Round 162\n",
      "Round 163\n",
      "Round 164\n",
      "Round 165\n",
      "Round 166\n",
      "Round 167\n",
      "Round 168\n",
      "Round 169\n",
      "Round 170\n",
      "Round 171\n",
      "Round 172\n",
      "Round 173\n",
      "Round 174\n",
      "Round 175\n",
      "Round 176\n",
      "Round 177\n",
      "Round 178\n",
      "War Time!!!!!!!!!\n",
      "Round 179\n",
      "Round 180\n",
      "Round 181\n",
      "Round 182\n",
      "Round 183\n",
      "Round 184\n",
      "Round 185\n",
      "Round 186\n",
      "Round 187\n",
      "Round 188\n",
      "Round 189\n",
      "Round 190\n",
      "Round 191\n",
      "Round 192\n",
      "Round 193\n",
      "Round 194\n",
      "Round 195\n",
      "Round 196\n",
      "War Time!!!!!!!!!\n",
      "Round 197\n",
      "Round 198\n",
      "Round 199\n",
      "Round 200\n",
      "Round 201\n",
      "Round 202\n",
      "Round 203\n",
      "War Time!!!!!!!!!\n",
      "War Time!!!!!!!!!\n",
      "Round 204\n",
      "Round 205\n",
      "Round 206\n",
      "War Time!!!!!!!!!\n",
      "War Time!!!!!!!!!\n",
      "Round 207\n",
      "Round 208\n",
      "Round 209\n",
      "Round 210\n",
      "Round 211\n",
      "Round 212\n",
      "Round 213\n",
      "Round 214\n",
      "Round 215\n",
      "Round 216\n",
      "Round 217\n",
      "Round 218\n",
      "Round 219\n",
      "Round 220\n",
      "Round 221\n",
      "Round 222\n",
      "Player 1, Out of cards!!!!!!\n",
      "Player 2 WON!!!!!!!!\n"
     ]
    }
   ],
   "source": [
    "#While Loop Game_On\n",
    "\n",
    "round_number =0\n",
    "while game_on:\n",
    "    round_number+=1\n",
    "    print(f\"Round {round_number}\")\n",
    "    def __str__(self):\n",
    "        return f'Player {self.p1_cards} has {len(self.all_cards)} cards.'\n",
    "    \n",
    "    \n",
    "    \n",
    "    #Check if anyone is loosing\n",
    "    if len(player_one.all_cards) == 0:\n",
    "        print ('Player 1, Out of cards!!!!!!')\n",
    "        print ('Player 2 WON!!!!!!!!')\n",
    "        game_on = False\n",
    "        break\n",
    "    if len(player_two.all_cards) == 0:\n",
    "        print ('Player 2, Out of cards!!!!!!')\n",
    "        print ('Player 1 WON!!!!!!!!')\n",
    "        game_on = False\n",
    "        break\n",
    "        \n",
    "        \n",
    "        \n",
    "    # Start new Round!!!!!!!!!!!!\n",
    "    p1_cards = []\n",
    "    p1_cards.append(player_one.remove_one())\n",
    "    p2_cards =[]\n",
    "    p2_cards.append(player_two.remove_one())\n",
    "    \n",
    "    \n",
    "    #While at_war\n",
    "    at_war =True\n",
    "    while at_war:\n",
    "        if p1_cards[-1].value > p2_cards[-1].value:\n",
    "            player_one.add_cards(p1_cards)\n",
    "            player_one.add_cards(p2_cards)\n",
    "            at_war =False\n",
    "            \n",
    "        elif p2_cards[-1].value > p1_cards[-1].value:\n",
    "            player_two.add_cards(p2_cards)\n",
    "            player_two.add_cards(p1_cards)\n",
    "            at_war =False\n",
    "        \n",
    "        else:\n",
    "            print (\"War Time!!!!!!!!!\")\n",
    "            \n",
    "            #Check if the cards are enough to draw\n",
    "            \n",
    "            if len(player_one.all_cards) < 5:\n",
    "                print(\"Player 1 dont have cards; Player 2 Wins\")\n",
    "                game_on = False\n",
    "                break\n",
    "            \n",
    "            elif len(player_two.all_cards) < 5:\n",
    "                print(\"Player 2 dont have cards; Player 1 Wins\")\n",
    "                game_on = False\n",
    "                break\n",
    "            else:\n",
    "                for num in range(5):\n",
    "                    p1_cards.append(player_one.remove_one())\n",
    "                    p2_cards.append(player_two.remove_one())\n",
    "                    \n",
    "    "
   ]
  },
  {
   "cell_type": "code",
   "execution_count": null,
   "id": "2d41fdb5",
   "metadata": {},
   "outputs": [],
   "source": []
  }
 ],
 "metadata": {
  "kernelspec": {
   "display_name": "Python 3",
   "language": "python",
   "name": "python3"
  },
  "language_info": {
   "codemirror_mode": {
    "name": "ipython",
    "version": 3
   },
   "file_extension": ".py",
   "mimetype": "text/x-python",
   "name": "python",
   "nbconvert_exporter": "python",
   "pygments_lexer": "ipython3",
   "version": "3.8.8"
  }
 },
 "nbformat": 4,
 "nbformat_minor": 5
}
